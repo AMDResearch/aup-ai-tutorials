{
 "cells": [
  {
   "cell_type": "markdown",
   "metadata": {},
   "source": [
    "# MNIST Classification with an MLP Hugging Face Model\n",
    "\n",
    "This notebook shows you how to run a pretrained model hosted on Hugging Face. https://huggingface.co/dacorvo/mnist-mlp\n",
    "\n",
    "## 🛠️ Supported Hardware\n",
    "\n",
    "This notebook can run in a CPU or in a GPU.\n",
    "\n",
    "✅ AMD Instinct™ Accelerators  \n",
    "✅ AMD Radeon™ RX/PRO Graphics Cards  \n",
    "✅ AMD EPYC™ Processors  \n",
    "✅ AMD Ryzen™ (AI) Processors  \n",
    "\n",
    "Suggested hardware: **AI PC powered by AMD Ryzen™ AI Processors**\n",
    "\n",
    "## ⚡ Recommended Software Environment\n",
    "\n",
    "::::{tab-set}\n",
    "\n",
    ":::{tab-item} Linux\n",
    "- [Install Docker container](https://amdresearch.github.io/aup-ai-tutorials//env/env-gpu.html)\n",
    "- [Install PyTorch](https://amdresearch.github.io/aup-ai-tutorials//env/env-cpu.html)\n",
    ":::\n",
    "\n",
    ":::{tab-item} Windows\n",
    "- [Install Direct-ML](https://amdresearch.github.io/aup-ai-tutorials//env/env-gpu-windows.html)\n",
    "- [Install PyTorch](https://amdresearch.github.io/aup-ai-tutorials//env/env-cpu.html)\n",
    ":::\n",
    "::::\n",
    "\n",
    "## 🎯 Goals\n",
    "\n",
    "- Show you how to download a model from HuggingFace\n",
    "- Run MNIST on an AMD platform\n",
    "- Explore the MNIST dataset and run inference of one of the test examples"
   ]
  },
  {
   "cell_type": "markdown",
   "metadata": {},
   "source": [
    "## 🚀 Run MNIST on an AMD Platform\n",
    "\n",
    "Import packages, in particular [Hugging Face `transformers`](https://huggingface.co/docs/transformers/en/index) that helps downloading the model from the Hugging Face repository."
   ]
  },
  {
   "cell_type": "code",
   "execution_count": 1,
   "metadata": {
    "vscode": {
     "languageId": "plaintext"
    }
   },
   "outputs": [],
   "source": [
    "import torch\n",
    "from transformers import AutoModel\n",
    "from torchvision import datasets, transforms\n",
    "import matplotlib.pyplot as plt\n",
    "from torch.utils.data import DataLoader"
   ]
  },
  {
   "cell_type": "markdown",
   "metadata": {},
   "source": [
    "Download the model from Hugging Face using `transformers.AutoModel` by specifying address. See more information on how to download models [here](https://huggingface.co/docs/hub/en/models-downloading)."
   ]
  },
  {
   "cell_type": "code",
   "execution_count": 2,
   "metadata": {
    "vscode": {
     "languageId": "plaintext"
    }
   },
   "outputs": [],
   "source": [
    "model = AutoModel.from_pretrained(\"dacorvo/mnist-mlp\", trust_remote_code=True)"
   ]
  },
  {
   "cell_type": "markdown",
   "metadata": {},
   "source": [
    "Display the model layers, as you can see, this is a very simple model with 3 layers.\n",
    "\n",
    "| Layer name | Input Features | Output Features |\n",
    "|------------|----------------|-----------------|\n",
    "| Input      |     784        |      256        |\n",
    "| Middle     |     256        |      256        |\n",
    "| Output     |     256        |       10        | "
   ]
  },
  {
   "cell_type": "code",
   "execution_count": 3,
   "metadata": {
    "vscode": {
     "languageId": "plaintext"
    }
   },
   "outputs": [
    {
     "name": "stdout",
     "output_type": "stream",
     "text": [
      "MLP(\n",
      "  (input_layer): Linear(in_features=784, out_features=256, bias=True)\n",
      "  (mid_layer): Linear(in_features=256, out_features=256, bias=True)\n",
      "  (output_layer): Linear(in_features=256, out_features=10, bias=True)\n",
      ")\n"
     ]
    }
   ],
   "source": [
    "print(model)"
   ]
  },
  {
   "cell_type": "markdown",
   "metadata": {},
   "source": [
    "Download MNIST dataset and apply a normalization transformation as well as flattening the dimensions. As you can see, we do not download the training data."
   ]
  },
  {
   "cell_type": "code",
   "execution_count": 4,
   "metadata": {
    "vscode": {
     "languageId": "plaintext"
    }
   },
   "outputs": [],
   "source": [
    "transform = transforms.Compose([\n",
    "        transforms.ToTensor(),\n",
    "        transforms.Normalize((0.1307,), (0.3081,)),\n",
    "        transforms.Lambda(lambda x: torch.flatten(x)),\n",
    "])\n",
    "\n",
    "test_set = datasets.MNIST('datasets/', train=False, download=True, transform=transform)"
   ]
  },
  {
   "cell_type": "markdown",
   "metadata": {},
   "source": [
    "Get a random number to index a sample from the test set"
   ]
  },
  {
   "cell_type": "code",
   "execution_count": 5,
   "metadata": {},
   "outputs": [
    {
     "name": "stdout",
     "output_type": "stream",
     "text": [
      "Random index=5760 with label=3\n"
     ]
    },
    {
     "name": "stderr",
     "output_type": "stream",
     "text": [
      "/opt/conda/envs/py_3.12/lib/python3.12/site-packages/torchvision/datasets/mnist.py:81: UserWarning: test_data has been renamed data\n",
      "  warnings.warn(\"test_data has been renamed data\")\n"
     ]
    }
   ],
   "source": [
    "index = int(torch.randint(low=0, high=test_set.test_data.shape[0], size=(1,)))\n",
    "data, label = test_set[index]\n",
    "print(f'Random {index=} with {label=}')"
   ]
  },
  {
   "cell_type": "markdown",
   "metadata": {},
   "source": [
    "Show the hand-written digit that we have randomly selected"
   ]
  },
  {
   "cell_type": "code",
   "execution_count": 6,
   "metadata": {},
   "outputs": [
    {
     "data": {
      "image/png": "[encoded data removed]",
      "text/plain": [
       "<Figure size 640x480 with 1 Axes>"
      ]
     },
     "metadata": {},
     "output_type": "display_data"
    }
   ],
   "source": [
    "fig = plt.figure\n",
    "plt.imshow(data.reshape(28,28), cmap='gray')\n",
    "plt.axis('off')\n",
    "plt.title(f'Label: {int(label)}')\n",
    "plt.show()"
   ]
  },
  {
   "cell_type": "markdown",
   "metadata": {},
   "source": [
    "Now, we can run an inference with the sample data on the model.\n",
    "\n",
    "```{note}\n",
    "We run the inference inside of the `torch.no_grad()` context in order not to track gradients. This saves memory and computation.\n",
    "```"
   ]
  },
  {
   "cell_type": "code",
   "execution_count": 7,
   "metadata": {},
   "outputs": [
    {
     "data": {
      "text/plain": [
       "tensor([3.6064e-12, 5.5341e-13, 1.1835e-07, 1.0000e+00, 1.8841e-17, 7.7729e-09,\n",
       "        4.6632e-18, 2.2053e-12, 6.5412e-11, 8.4408e-15])"
      ]
     },
     "execution_count": 7,
     "metadata": {},
     "output_type": "execute_result"
    }
   ],
   "source": [
    "with torch.no_grad():\n",
    "    output = model(data)\n",
    "output"
   ]
  },
  {
   "cell_type": "markdown",
   "metadata": {},
   "source": [
    "Because the model has ten output neurons, we are going to use `torch.argmax` to get the index of the neuron with the highest probability."
   ]
  },
  {
   "cell_type": "code",
   "execution_count": 8,
   "metadata": {},
   "outputs": [
    {
     "data": {
      "text/plain": [
       "tensor(3)"
      ]
     },
     "execution_count": 8,
     "metadata": {},
     "output_type": "execute_result"
    }
   ],
   "source": [
    "predicted = torch.argmax(output)\n",
    "predicted"
   ]
  },
  {
   "cell_type": "markdown",
   "metadata": {},
   "source": [
    "We can now check if the class we got after inference is the correct one. "
   ]
  },
  {
   "cell_type": "code",
   "execution_count": 9,
   "metadata": {},
   "outputs": [
    {
     "name": "stdout",
     "output_type": "stream",
     "text": [
      "Is the prediction correct? True\n"
     ]
    }
   ],
   "source": [
    "print(f'Is the prediction correct? {predicted == label}')"
   ]
  },
  {
   "cell_type": "markdown",
   "metadata": {},
   "source": [
    "Compute the accuracy of the downloaded model by checking the complete test set.\n",
    "We first create a `DataLoader` object that we will use to iterate over the test images. Using this object we loop over the images and labels, we use images to run the batched inference, then using the output we compute the predicted class and compare them with the actual class to compute the total number of correct predictions. After this, we can print the test accuracy."
   ]
  },
  {
   "cell_type": "code",
   "execution_count": 10,
   "metadata": {},
   "outputs": [
    {
     "name": "stdout",
     "output_type": "stream",
     "text": [
      "Test accuracy:  96.57%\n"
     ]
    }
   ],
   "source": [
    "test_loader = DataLoader(test_set, batch_size=64, shuffle=False)\n",
    "correct_classifications = 0\n",
    "for images, labels in test_loader:\n",
    "    with torch.no_grad():\n",
    "        output = model(images)\n",
    "    correct_classifications += torch.sum(torch.argmax(output, dim=1) == labels).item()\n",
    "\n",
    "print(f'Test accuracy: {100*correct_classifications/len(test_set): .2f}%')"
   ]
  },
  {
   "cell_type": "markdown",
   "metadata": {},
   "source": [
    "----------\n",
    "Copyright (C) 2025 Advanced Micro Devices, Inc. All rights reserved.\n",
    "\n",
    "SPDX-License-Identifier: MIT"
   ]
  }
 ],
 "metadata": {
  "kernelspec": {
   "display_name": "Python 3 (ipykernel)",
   "language": "python",
   "name": "python3"
  },
  "language_info": {
   "codemirror_mode": {
    "name": "ipython",
    "version": 3
   },
   "file_extension": ".py",
   "mimetype": "text/x-python",
   "name": "python",
   "nbconvert_exporter": "python",
   "pygments_lexer": "ipython3",
   "version": "3.12.10"
  }
 },
 "nbformat": 4,
 "nbformat_minor": 4
}
