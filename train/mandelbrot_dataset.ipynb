{
 "cells": [
  {
   "cell_type": "markdown",
   "metadata": {},
   "source": [
    "# Create Mandelbrot Dataset\n",
    "\n",
    "In this notebook we will build and create the Mandelbrot dataset that will be later used as input to train our model. The idea is to create a dataset of points in the x-y coordinates where we identify if the point is part of the Mandelbrot set or not. The dataset will be used to train a model that can predict if a point is in the Mandelbrot set.\n",
    "\n",
    "## 🛠️ Supported Hardware\n",
    "\n",
    "✅ AMD EPYC™ Processors  \n",
    "✅ AMD Ryzen™ (AI) Processors  \n",
    "\n",
    "Suggested hardware: **AI PC powered by AMD Ryzen™ AI Processors**\n",
    "\n",
    "## ⚡ Recommended Software Environment\n",
    "\n",
    "::::{tab-set}\n",
    "\n",
    ":::{tab-item} Linux\n",
    "- [Install Docker container](https://amdresearch.github.io/aup-ai-tutorials//env/env-gpu.html)\n",
    "- [Install PyTorch](https://amdresearch.github.io/aup-ai-tutorials//env/env-cpu.html)\n",
    ":::\n",
    "\n",
    ":::{tab-item} Windows\n",
    "- [Install Direct-ML](https://amdresearch.github.io/aup-ai-tutorials//env/env-gpu-windows.html)\n",
    "- [Install PyTorch](https://amdresearch.github.io/aup-ai-tutorials//env/env-cpu.html)\n",
    ":::\n",
    "::::\n",
    "\n",
    "## 🎯 Goals\n",
    "\n",
    "- Create a Mandelbrot dataset\n",
    "\n",
    ":::{seealso}\n",
    "- [Mandelbrot set](https://en.wikipedia.org/wiki/Mandelbrot_set)\n",
    ":::"
   ]
  },
  {
   "cell_type": "markdown",
   "metadata": {},
   "source": [
    "Import the necessary libraries and set the parameters for the Mandelbrot set generation."
   ]
  },
  {
   "cell_type": "code",
   "execution_count": 1,
   "metadata": {},
   "outputs": [],
   "source": [
    "import colorsys\n",
    "import matplotlib.pyplot as plt\n",
    "import numpy as np\n",
    "import cv2"
   ]
  },
  {
   "cell_type": "markdown",
   "metadata": {},
   "source": [
    "Define the width of the set in number of pixels, we will start with 200. We assume that the aspect ratio is one."
   ]
  },
  {
   "cell_type": "code",
   "execution_count": 2,
   "metadata": {},
   "outputs": [],
   "source": [
    "height = width = 200"
   ]
  },
  {
   "cell_type": "markdown",
   "metadata": {},
   "source": [
    "Compute the mandelbrot set"
   ]
  },
  {
   "cell_type": "code",
   "execution_count": 3,
   "metadata": {},
   "outputs": [],
   "source": [
    "x = -0.65\n",
    "y = 0\n",
    "y_range = x_range = 3.4\n",
    "precision = 500\n",
    "\n",
    "min_x = x - x_range / 2\n",
    "max_y = y + y_range / 2\n",
    "\n",
    "img = np.zeros((height, width, 3), dtype=np.float32) # define image\n",
    "\n",
    "def power_color(distance, exp, const, scale):\n",
    "    color = distance**exp\n",
    "    rgb = colorsys.hsv_to_rgb(const + scale * color,1 - 0.6 * color,0.9)\n",
    "    return tuple(round(i * 255) for i in rgb)\n",
    "\n",
    "for row in range(height):\n",
    "    for col in range(width):\n",
    "        x = min_x + col * x_range / width\n",
    "        y = max_y - row * y_range / height\n",
    "        old_x = x\n",
    "        old_y = y\n",
    "        for i in range(precision + 1):\n",
    "            a = x*x - y*y\n",
    "            b = 2 * x * y\n",
    "            x = a + old_x\n",
    "            y = b + old_y\n",
    "            if x*x + y*y > 4:\n",
    "                break\n",
    "        if i < precision:\n",
    "            distance = (i + 1) / (precision + 1)\n",
    "            rgb = power_color(distance, 0.2, 0.27, 1.0)\n",
    "            img[row, col] = rgb\n",
    "        index = row * width + col + 1\n",
    "img /= 255 # convert to float"
   ]
  },
  {
   "cell_type": "markdown",
   "metadata": {},
   "source": [
    "Apply a few transformations to clean up the dataset, make it binary a point belongs or not to the set."
   ]
  },
  {
   "cell_type": "code",
   "execution_count": null,
   "metadata": {},
   "outputs": [],
   "source": [
    "gray_image = 1.0 - cv2.cvtColor(img, cv2.COLOR_BGR2GRAY)\n",
    "\n",
    "_, mandelbrot_golden = cv2.threshold(gray_image, 0.91, 1, cv2.THRESH_BINARY)"
   ]
  },
  {
   "cell_type": "markdown",
   "metadata": {},
   "source": [
    "Visualize the Mandelbrot set"
   ]
  },
  {
   "cell_type": "code",
   "execution_count": null,
   "metadata": {},
   "outputs": [
    {
     "data": {
      "image/png": "[encoded data removed]",
      "text/plain": [
       "<Figure size 1500x800 with 2 Axes>"
      ]
     },
     "metadata": {},
     "output_type": "display_data"
    }
   ],
   "source": [
    "x_values = np.linspace(-2, 1, mandelbrot_golden.shape[1])\n",
    "y_values = np.linspace(-1.5, 1.5, mandelbrot_golden.shape[0])\n",
    "x_coords, y_coords = np.meshgrid(x_values, y_values)\n",
    "\n",
    "plt.figure(figsize=(15, 8))\n",
    "\n",
    "plt.imshow(mandelbrot_golden, extent=(x_values[0], x_values[-1], y_values[0], y_values[-1]), origin='lower', vmin=0, vmax=1)\n",
    "\n",
    "plt.colorbar()\n",
    "plt.show()"
   ]
  },
  {
   "cell_type": "markdown",
   "metadata": {},
   "source": [
    "Save the model to a file for later use."
   ]
  },
  {
   "cell_type": "code",
   "execution_count": null,
   "metadata": {},
   "outputs": [],
   "source": [
    "def save_manderlbrot(img):\n",
    "    name = f'datasets/mandelbrot/mandelbrot-set_{mandelbrot_golden.shape[1]}_{mandelbrot_golden.shape[0]}.npy'\n",
    "    np.save(name, img)\n",
    "save_manderlbrot(mandelbrot_golden)"
   ]
  },
  {
   "cell_type": "markdown",
   "metadata": {},
   "source": [
    "----------\n",
    "Copyright (C) 2025 Advanced Micro Devices, Inc. All rights reserved.\n",
    "\n",
    "SPDX-License-Identifier: MIT"
   ]
  }
 ],
 "metadata": {
  "kernelspec": {
   "display_name": "Python 3",
   "language": "python",
   "name": "python3"
  },
  "language_info": {
   "codemirror_mode": {
    "name": "ipython",
    "version": 3
   },
   "file_extension": ".py",
   "mimetype": "text/x-python",
   "name": "python",
   "nbconvert_exporter": "python",
   "pygments_lexer": "ipython3",
   "version": "3.12.2"
  }
 },
 "nbformat": 4,
 "nbformat_minor": 2
}
